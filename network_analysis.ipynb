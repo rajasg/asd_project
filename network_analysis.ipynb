{
 "cells": [
  {
   "cell_type": "code",
   "execution_count": 107,
   "metadata": {},
   "outputs": [],
   "source": [
    "import networkx as nx\n",
    "import numpy as np\n",
    "import glob"
   ]
  },
  {
   "cell_type": "code",
   "execution_count": 108,
   "metadata": {},
   "outputs": [],
   "source": [
    "labels = np.loadtxt(open(\"./data/labels.csv\", \"rb\"))\n",
    "num_subjects = len(labels)"
   ]
  },
  {
   "cell_type": "code",
   "execution_count": 109,
   "metadata": {},
   "outputs": [],
   "source": [
    "asd_matrix = np.loadtxt(open(\"./data/networks/asd_mean.csv\", \"rb\"), delimiter=\",\")\n",
    "threshold = np.percentile(asd_mean_matrix, 90)\n",
    "asd_matrix[asd_matrix < threshold] = 0\n",
    "asd_mean_network = nx.from_numpy_matrix(asd_mean_matrix)\n",
    "\n",
    "td_mean_matrix = np.loadtxt(open(\"./data/networks/td_mean.csv\", \"rb\"), delimiter=\",\")\n",
    "threshold = np.percentile(td_mean_matrix, 90)\n",
    "td_mean_matrix[td_mean_matrix < threshold] = 0\n",
    "td_mean_network = nx.from_numpy_matrix(td_mean_matrix)"
   ]
  },
  {
   "cell_type": "code",
   "execution_count": 110,
   "metadata": {},
   "outputs": [],
   "source": [
    "asd_networks, td_networks = [], []\n",
    "for idx in range(num_subjects):\n",
    "    M = np.loadtxt(open(\"./data/networks/train_%d.csv\" % idx, \"rb\"), delimiter=\",\")\n",
    "    threshold = np.percentile(M, 90)\n",
    "    M[M < threshold] = 0\n",
    "    G = nx.from_numpy_matrix(M)\n",
    "    if labels[idx] == 1: asd_networks.append(G)\n",
    "    else: td_networks.append(G)"
   ]
  },
  {
   "cell_type": "code",
   "execution_count": 132,
   "metadata": {},
   "outputs": [],
   "source": [
    "asd_mean_centrality = nx.degree_centrality(asd_mean_network)\n",
    "asd_mean_centrality = np.array(list(asd_mean_centrality.values()))\n",
    "\n",
    "td_mean_centrality = nx.degree_centrality(td_mean_network)\n",
    "td_mean_centrality = np.array(list(td_mean_centrality.values()))"
   ]
  },
  {
   "cell_type": "code",
   "execution_count": 133,
   "metadata": {},
   "outputs": [],
   "source": []
  },
  {
   "cell_type": "code",
   "execution_count": 174,
   "metadata": {},
   "outputs": [],
   "source": [
    "diff = asd_mean_centrality - td_mean_centrality"
   ]
  },
  {
   "cell_type": "code",
   "execution_count": null,
   "metadata": {},
   "outputs": [],
   "source": []
  }
 ],
 "metadata": {
  "kernelspec": {
   "display_name": "Python 3",
   "language": "python",
   "name": "python3"
  },
  "language_info": {
   "codemirror_mode": {
    "name": "ipython",
    "version": 3
   },
   "file_extension": ".py",
   "mimetype": "text/x-python",
   "name": "python",
   "nbconvert_exporter": "python",
   "pygments_lexer": "ipython3",
   "version": "3.8.5"
  }
 },
 "nbformat": 4,
 "nbformat_minor": 4
}
