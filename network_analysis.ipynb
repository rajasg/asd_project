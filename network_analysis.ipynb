{
 "cells": [
  {
   "cell_type": "code",
   "execution_count": 323,
   "metadata": {},
   "outputs": [],
   "source": [
    "import networkx as nx\n",
    "import numpy as np"
   ]
  },
  {
   "cell_type": "code",
   "execution_count": 324,
   "metadata": {},
   "outputs": [],
   "source": [
    "# Get list regions of interest\n",
    "rois = open(\"./data/rois.txt\", \"r\").read().split(\"\\n\")\n",
    "\n",
    "# Get Mean Correlation Matrix for ASD and convert to sparse unweighted network\n",
    "asd_matrix = np.loadtxt(open(\"./data/networks/asd_corr_matrix.csv\", \"rb\"), delimiter=\",\")\n",
    "asd_threshold = np.percentile(asd_matrix, 80)\n",
    "asd_matrix[asd_matrix < asd_threshold] = 0\n",
    "asd_matrix[asd_matrix >= asd_threshold] = 1\n",
    "asd_network = nx.from_numpy_matrix(asd_matrix)\n",
    "\n",
    "# Get Mean Correlation Matrix for TD and convert to sparse unweighted network\n",
    "td_matrix = np.loadtxt(open(\"./data/networks/td_corr_matrix.csv\", \"rb\"), delimiter=\",\")\n",
    "td_threshold = np.percentile(td_matrix, 80)\n",
    "td_matrix[td_matrix < td_threshold] = 0\n",
    "td_matrix[td_matrix >= td_threshold] = 1\n",
    "td_network = nx.from_numpy_matrix(td_matrix)"
   ]
  },
  {
   "cell_type": "code",
   "execution_count": 328,
   "metadata": {},
   "outputs": [
    {
     "name": "stdout",
     "output_type": "stream",
     "text": [
      "ASD Density: 0.20672268907563024\n",
      "TD Density: 0.20672268907563024\n",
      "ASD Transitivity: 0.525918944392083\n",
      "TD Transitivity: 0.46846846846846846\n",
      "ASD Clustering: 0.5685230455818693\n",
      "TD Clustering: 0.5184947918561366\n"
     ]
    }
   ],
   "source": [
    "# Global Measures\n",
    "print(\"ASD Density: \" + str(nx.density(asd_network)))\n",
    "print(\"TD Density: \" + str(nx.density(td_network)))\n",
    "\n",
    "print(\"ASD Transitivity: \" + str(nx.transitivity(asd_network)))\n",
    "print(\"TD Transitivity: \" + str(nx.transitivity(td_network)))\n",
    "\n",
    "print(\"ASD Clustering: \" + str(nx.average_clustering(asd_network)))\n",
    "print(\"TD Clustering: \" + str(nx.average_clustering(td_network)))"
   ]
  },
  {
   "cell_type": "code",
   "execution_count": 329,
   "metadata": {},
   "outputs": [
    {
     "name": "stdout",
     "output_type": "stream",
     "text": [
      "------------Degree--------------\n",
      "Max ASD Node: Left Superior Parietal Lobule | Value: 0.5294117647058824\n",
      "Max TD Node: Left Superior Parietal Lobule | Value: 0.5294117647058824\n",
      "Max Diff: Left Precuneous Cortex | Value: 0.11764705882352941\n",
      "Min Diff: Right Superior Frontal Gyrus | Value: -0.08823529411764708\n",
      "------------Closeness--------------\n",
      "Max ASD Node: Left Superior Parietal Lobule | Value: 0.6013767209011264\n",
      "Max TD Node: Left Superior Parietal Lobule | Value: 0.5888480392156863\n",
      "Max Diff: Left Precuneous Cortex | Value: 0.09430300387068641\n",
      "Min Diff: Right Middle Frontal Gyrus | Value: -0.061609855209689424\n",
      "------------Betweenness--------------\n",
      "Max ASD Node: Right Postcentral Gyrus | Value: 0.1357577769552185\n",
      "Max TD Node: Left Superior Parietal Lobule | Value: 0.1319926401777268\n",
      "Max Diff: Left Precuneous Cortex | Value: 0.04968391803667708\n",
      "Min Diff: Right Superior Frontal Gyrus | Value: -0.0410199091778039\n"
     ]
    }
   ],
   "source": [
    "# Nodal Measures\n",
    "funcs = [nx.degree_centrality, nx.closeness_centrality, nx.betweenness_centrality]\n",
    "func_names = [\"Degree\", \"Closeness\", \"Betweenness\"]\n",
    "\n",
    "for func, name in zip(funcs, func_names):\n",
    "    print(\"------------\" + name + \"--------------\")\n",
    "    \n",
    "    asd_centrality = func(asd_network)\n",
    "    asd_centrality = np.array(list(asd_centrality.values()))\n",
    "    print(\"Max ASD Node: \" + rois[np.argmax(asd_centrality)] + \" | Value: \" + str(np.max(asd_centrality)))\n",
    "\n",
    "    td_centrality = func(td_network)\n",
    "    td_centrality = np.array(list(td_centrality.values()))\n",
    "    print(\"Max TD Node: \" + rois[np.argmax(td_centrality)] + \" | Value: \" + str(np.max(td_centrality)))\n",
    "\n",
    "    diff = asd_centrality - td_centrality\n",
    "    print(\"Max Diff: \" + rois[np.argmax(diff)] + \" | Value: \" + str(np.max(diff)))\n",
    "    print(\"Min Diff: \" + rois[np.argmin(diff)] + \" | Value: \" + str(np.min(diff)))"
   ]
  },
  {
   "cell_type": "code",
   "execution_count": 320,
   "metadata": {},
   "outputs": [],
   "source": []
  }
 ],
 "metadata": {
  "kernelspec": {
   "display_name": "Python 3",
   "language": "python",
   "name": "python3"
  },
  "language_info": {
   "codemirror_mode": {
    "name": "ipython",
    "version": 3
   },
   "file_extension": ".py",
   "mimetype": "text/x-python",
   "name": "python",
   "nbconvert_exporter": "python",
   "pygments_lexer": "ipython3",
   "version": "3.8.5"
  }
 },
 "nbformat": 4,
 "nbformat_minor": 4
}
