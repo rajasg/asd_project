{
 "cells": [
  {
   "cell_type": "code",
   "execution_count": 92,
   "metadata": {},
   "outputs": [],
   "source": [
    "import networkx as nx\n",
    "import numpy as np\n",
    "import glob"
   ]
  },
  {
   "cell_type": "code",
   "execution_count": 93,
   "metadata": {},
   "outputs": [],
   "source": [
    "labels = np.loadtxt(open(\"./data/labels.csv\", \"rb\"))\n",
    "num_subjects = len(labels)"
   ]
  },
  {
   "cell_type": "code",
   "execution_count": 103,
   "metadata": {},
   "outputs": [],
   "source": [
    "asd_mean_matrix = np.loadtxt(open(\"./data/networks/asd_mean.csv\", \"rb\"), delimiter=\",\")\n",
    "threshold = np.percentile(asd_mean_matrix, 90)\n",
    "asd_mean_matrix[asd_mean_matrix < threshold] = 0\n",
    "asd_mean_network = nx.from_numpy_matrix(asd_mean_matrix)\n",
    "\n",
    "td_mean_matrix = np.loadtxt(open(\"./data/networks/td_mean.csv\", \"rb\"), delimiter=\",\")\n",
    "threshold = np.percentile(td_mean_matrix, 90)\n",
    "td_mean_matrix[td_mean_matrix < threshold] = 0\n",
    "td_mean_network = nx.from_numpy_matrix(td_mean_matrix)"
   ]
  },
  {
   "cell_type": "code",
   "execution_count": 95,
   "metadata": {},
   "outputs": [],
   "source": [
    "asd_networks, td_networks = [], []\n",
    "for idx in range(num_subjects):\n",
    "    M = np.loadtxt(open(\"./data/networks/train_%d.csv\" % idx, \"rb\"), delimiter=\",\")\n",
    "    threshold = np.percentile(M, 90)\n",
    "    M[M < threshold] = 0\n",
    "    G = nx.from_numpy_matrix(M)\n",
    "    if labels[idx] == 1: asd_networks.append(G)\n",
    "    else: td_networks.append(G)"
   ]
  },
  {
   "cell_type": "code",
   "execution_count": 105,
   "metadata": {},
   "outputs": [
    {
     "data": {
      "text/plain": [
       "{0: 0.14705882352941177,\n",
       " 1: 0.14705882352941177,\n",
       " 2: 0.11764705882352941,\n",
       " 3: 0.1764705882352941,\n",
       " 4: 0.0,\n",
       " 5: 0.0,\n",
       " 6: 0.0,\n",
       " 7: 0.0,\n",
       " 8: 0.08823529411764705,\n",
       " 9: 0.11764705882352941,\n",
       " 10: 0.20588235294117646,\n",
       " 11: 0.058823529411764705,\n",
       " 12: 0.0,\n",
       " 13: 0.08823529411764705,\n",
       " 14: 0.08823529411764705,\n",
       " 15: 0.08823529411764705,\n",
       " 16: 0.11764705882352941,\n",
       " 17: 0.14705882352941177,\n",
       " 18: 0.058823529411764705,\n",
       " 19: 0.14705882352941177,\n",
       " 20: 0.11764705882352941,\n",
       " 21: 0.1764705882352941,\n",
       " 22: 0.029411764705882353,\n",
       " 23: 0.20588235294117646,\n",
       " 24: 0.029411764705882353,\n",
       " 25: 0.14705882352941177,\n",
       " 26: 0.11764705882352941,\n",
       " 27: 0.11764705882352941,\n",
       " 28: 0.14705882352941177,\n",
       " 29: 0.11764705882352941,\n",
       " 30: 0.1764705882352941,\n",
       " 31: 0.08823529411764705,\n",
       " 32: 0.08823529411764705,\n",
       " 33: 0.1764705882352941,\n",
       " 34: 0.11764705882352941}"
      ]
     },
     "execution_count": 105,
     "metadata": {},
     "output_type": "execute_result"
    }
   ],
   "source": [
    "nx.degree_centrality(asd_mean_network)"
   ]
  },
  {
   "cell_type": "code",
   "execution_count": 106,
   "metadata": {},
   "outputs": [
    {
     "data": {
      "text/plain": [
       "{0: 0.14705882352941177,\n",
       " 1: 0.14705882352941177,\n",
       " 2: 0.058823529411764705,\n",
       " 3: 0.14705882352941177,\n",
       " 4: 0.0,\n",
       " 5: 0.0,\n",
       " 6: 0.0,\n",
       " 7: 0.0,\n",
       " 8: 0.14705882352941177,\n",
       " 9: 0.11764705882352941,\n",
       " 10: 0.14705882352941177,\n",
       " 11: 0.08823529411764705,\n",
       " 12: 0.029411764705882353,\n",
       " 13: 0.08823529411764705,\n",
       " 14: 0.08823529411764705,\n",
       " 15: 0.08823529411764705,\n",
       " 16: 0.11764705882352941,\n",
       " 17: 0.11764705882352941,\n",
       " 18: 0.058823529411764705,\n",
       " 19: 0.14705882352941177,\n",
       " 20: 0.11764705882352941,\n",
       " 21: 0.20588235294117646,\n",
       " 22: 0.029411764705882353,\n",
       " 23: 0.20588235294117646,\n",
       " 24: 0.08823529411764705,\n",
       " 25: 0.14705882352941177,\n",
       " 26: 0.14705882352941177,\n",
       " 27: 0.14705882352941177,\n",
       " 28: 0.1764705882352941,\n",
       " 29: 0.11764705882352941,\n",
       " 30: 0.1764705882352941,\n",
       " 31: 0.08823529411764705,\n",
       " 32: 0.08823529411764705,\n",
       " 33: 0.08823529411764705,\n",
       " 34: 0.08823529411764705}"
      ]
     },
     "execution_count": 106,
     "metadata": {},
     "output_type": "execute_result"
    }
   ],
   "source": [
    "nx.degree_centrality(td_mean_network)"
   ]
  },
  {
   "cell_type": "code",
   "execution_count": null,
   "metadata": {},
   "outputs": [],
   "source": []
  }
 ],
 "metadata": {
  "kernelspec": {
   "display_name": "Python 3",
   "language": "python",
   "name": "python3"
  },
  "language_info": {
   "codemirror_mode": {
    "name": "ipython",
    "version": 3
   },
   "file_extension": ".py",
   "mimetype": "text/x-python",
   "name": "python",
   "nbconvert_exporter": "python",
   "pygments_lexer": "ipython3",
   "version": "3.8.5"
  }
 },
 "nbformat": 4,
 "nbformat_minor": 4
}
