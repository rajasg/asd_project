{
 "cells": [
  {
   "cell_type": "code",
   "execution_count": 293,
   "metadata": {},
   "outputs": [],
   "source": [
    "import networkx as nx\n",
    "import numpy as np\n",
    "import glob"
   ]
  },
  {
   "cell_type": "code",
   "execution_count": 298,
   "metadata": {},
   "outputs": [],
   "source": [
    "rois = open(\"./data/rois.txt\", \"r\").read().split(\"\\n\")\n",
    "\n",
    "asd_matrix = np.loadtxt(open(\"./data/networks/asd_corr_matrix.csv\", \"rb\"), delimiter=\",\")\n",
    "asd_threshold = np.percentile(asd_matrix, 80)\n",
    "asd_matrix[asd_matrix < asd_threshold] = 0\n",
    "asd_matrix[asd_matrix >= asd_threshold] = 1\n",
    "asd_network = nx.from_numpy_matrix(asd_matrix)\n",
    "\n",
    "td_matrix = np.loadtxt(open(\"./data/networks/td_corr_matrix.csv\", \"rb\"), delimiter=\",\")\n",
    "td_threshold = np.percentile(td_matrix, 80)\n",
    "td_matrix[td_matrix < td_threshold] = 0\n",
    "td_matrix[td_matrix >= td_threshold] = 1\n",
    "td_network = nx.from_numpy_matrix(td_matrix)"
   ]
  },
  {
   "cell_type": "code",
   "execution_count": 317,
   "metadata": {},
   "outputs": [
    {
     "name": "stdout",
     "output_type": "stream",
     "text": [
      "Max ASD Node: Left Superior Parietal Lobule | Value: 0.5294117647058824\n",
      "Max TD Node: Left Superior Parietal Lobule | Value: 0.5294117647058824\n",
      "Max Diff: Left Precuneous Cortex | Value: 0.11764705882352941\n",
      "Min Diff: Right Superior Frontal Gyrus | Value: -0.08823529411764708\n"
     ]
    }
   ],
   "source": [
    "func = nx.degree_centrality\n",
    "\n",
    "asd_centrality = func(asd_network)\n",
    "asd_centrality = np.array(list(asd_centrality.values()))\n",
    "\n",
    "print(\"Max ASD Node: \" + rois[np.argmax(asd_centrality)] + \" | Value: \" + str(np.max(asd_centrality)))\n",
    "\n",
    "td_centrality = func(td_network)\n",
    "td_centrality = np.array(list(td_centrality.values()))\n",
    "\n",
    "print(\"Max TD Node: \" + rois[np.argmax(td_centrality)] + \" | Value: \" + str(np.max(td_centrality)))\n",
    "\n",
    "diff = asd_centrality - td_centrality\n",
    "\n",
    "print(\"Max Diff: \" + rois[np.argmax(diff)] + \" | Value: \" + str(np.max(diff)))\n",
    "print(\"Min Diff: \" + rois[np.argmin(diff)] + \" | Value: \" + str(np.min(diff)))"
   ]
  },
  {
   "cell_type": "code",
   "execution_count": 306,
   "metadata": {},
   "outputs": [
    {
     "data": {
      "text/plain": [
       "0.525918944392083"
      ]
     },
     "execution_count": 306,
     "metadata": {},
     "output_type": "execute_result"
    }
   ],
   "source": [
    "nx.transitivity(asd_network)"
   ]
  },
  {
   "cell_type": "code",
   "execution_count": 307,
   "metadata": {},
   "outputs": [
    {
     "data": {
      "text/plain": [
       "0.46846846846846846"
      ]
     },
     "execution_count": 307,
     "metadata": {},
     "output_type": "execute_result"
    }
   ],
   "source": [
    "nx.transitivity(td_network)"
   ]
  },
  {
   "cell_type": "code",
   "execution_count": 286,
   "metadata": {},
   "outputs": [
    {
     "data": {
      "text/plain": [
       "0.002636327333501003"
      ]
     },
     "execution_count": 286,
     "metadata": {},
     "output_type": "execute_result"
    }
   ],
   "source": [
    "nx.degree_assortativity_coefficient(asd_network)"
   ]
  },
  {
   "cell_type": "code",
   "execution_count": 320,
   "metadata": {},
   "outputs": [],
   "source": []
  }
 ],
 "metadata": {
  "kernelspec": {
   "display_name": "Python 3",
   "language": "python",
   "name": "python3"
  },
  "language_info": {
   "codemirror_mode": {
    "name": "ipython",
    "version": 3
   },
   "file_extension": ".py",
   "mimetype": "text/x-python",
   "name": "python",
   "nbconvert_exporter": "python",
   "pygments_lexer": "ipython3",
   "version": "3.8.5"
  }
 },
 "nbformat": 4,
 "nbformat_minor": 4
}
