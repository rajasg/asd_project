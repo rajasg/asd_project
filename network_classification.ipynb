{
 "cells": [
  {
   "cell_type": "code",
   "execution_count": 120,
   "metadata": {},
   "outputs": [],
   "source": [
    "import numpy as np\n",
    "import os"
   ]
  },
  {
   "cell_type": "code",
   "execution_count": 270,
   "metadata": {},
   "outputs": [
    {
     "name": "stdout",
     "output_type": "stream",
     "text": [
      "(120, 1156)\n"
     ]
    }
   ],
   "source": [
    "# Get labels\n",
    "y = np.loadtxt(\"data/labels.csv\", delimiter=',', dtype='int')    # 0 = typical, 1 = ASD\n",
    "\n",
    "# Get data\n",
    "num_files = len(os.listdir('./data/networks'))\n",
    "data_lst = []\n",
    "for i in range(num_files):\n",
    "    x = np.tril(np.loadtxt(f\"data/networks/train_{i}.csv\", delimiter=','), -1)[1:,:-1].flatten()\n",
    "    threshold = np.percentile(x, 99)\n",
    "    x[x < threshold] = 0\n",
    "    data_lst.append(x)\n",
    "\n",
    "X = np.array(data_lst)\n",
    "print(X.shape)"
   ]
  },
  {
   "cell_type": "code",
   "execution_count": 271,
   "metadata": {},
   "outputs": [],
   "source": [
    "from sklearn.svm import SVC\n",
    "from sklearn.model_selection import StratifiedKFold\n",
    "from sklearn.metrics import accuracy_score"
   ]
  },
  {
   "cell_type": "code",
   "execution_count": 278,
   "metadata": {},
   "outputs": [],
   "source": [
    "svc = SVC()\n",
    "parameters = {'C':[.1, 1., 10.]}\n",
    "gs = GridSearchCV(svc, parameters, cv=5)"
   ]
  },
  {
   "cell_type": "code",
   "execution_count": 279,
   "metadata": {},
   "outputs": [
    {
     "name": "stdout",
     "output_type": "stream",
     "text": [
      "[0.51666667 0.575      0.49166667]\n",
      "[0.02041241 0.06666667 0.04082483]\n"
     ]
    }
   ],
   "source": [
    "gs.fit(X, y)\n",
    "mean_scores = gs.cv_results_['mean_test_score']\n",
    "scores_std = gs.cv_results_['std_test_score']\n",
    "\n",
    "print(mean_scores)\n",
    "print(scores_std)"
   ]
  },
  {
   "cell_type": "code",
   "execution_count": 273,
   "metadata": {},
   "outputs": [
    {
     "name": "stdout",
     "output_type": "stream",
     "text": [
      "0.5325\n"
     ]
    }
   ],
   "source": [
    "scores = []\n",
    "for i in range(10):\n",
    "    for train_index, test_index in skf.split(X, y):\n",
    "        X_train, X_test = X[train_index], X[test_index]\n",
    "        y_train, y_test = y[train_index], y[test_index]\n",
    "        clf.fit(X_train, y_train)\n",
    "        y_pred = clf.predict(X_test)\n",
    "        scores.append(accuracy_score(y_test, y_pred))\n",
    "print(np.mean(scores))\n"
   ]
  },
  {
   "cell_type": "code",
   "execution_count": 267,
   "metadata": {},
   "outputs": [
    {
     "name": "stderr",
     "output_type": "stream",
     "text": [
      "/Users/vsharm/Desktop/Practice/mri-test/lib/python3.8/site-packages/sklearn/utils/validation.py:70: FutureWarning: Pass strategy=most_frequent as keyword args. From version 1.0 (renaming of 0.25) passing these as positional arguments will result in an error\n",
      "  warnings.warn(f\"Pass {args_msg} as keyword args. From version \"\n"
     ]
    }
   ],
   "source": [
    "from sklearn.pipeline import Pipeline\n",
    "from nilearn.connectome import ConnectivityMeasure\n",
    "from sklearn.svm import LinearSVC\n",
    "from sklearn.dummy import DummyClassifier\n",
    "from sklearn.model_selection import GridSearchCV\n",
    "\n",
    "kinds = ['correlation', 'partial correlation', 'tangent']\n",
    "\n",
    "pipe = Pipeline(\n",
    "    [('connectivity', ConnectivityMeasure(vectorize=True)),\n",
    "     ('classifier', GridSearchCV(LinearSVC(), {'C': [.1, 1., 10.]}, cv=5))])\n",
    "\n",
    "param_grid = [\n",
    "    {'classifier': [DummyClassifier('most_frequent')]},\n",
    "    {'connectivity__kind': kinds}\n",
    "]"
   ]
  },
  {
   "cell_type": "code",
   "execution_count": 268,
   "metadata": {},
   "outputs": [],
   "source": [
    "from sklearn.model_selection import GridSearchCV, StratifiedShuffleSplit\n",
    "from sklearn.preprocessing import LabelEncoder"
   ]
  },
  {
   "cell_type": "code",
   "execution_count": 269,
   "metadata": {},
   "outputs": [],
   "source": [
    "cv = StratifiedShuffleSplit(n_splits=30, random_state=0, test_size=10)\n",
    "gs = GridSearchCV(pipe, param_grid, scoring='accuracy', cv=cv, verbose=1,\n",
    "                  refit=False, n_jobs=8)"
   ]
  },
  {
   "cell_type": "code",
   "execution_count": 265,
   "metadata": {},
   "outputs": [
    {
     "name": "stdout",
     "output_type": "stream",
     "text": [
      "Fitting 30 folds for each of 4 candidates, totalling 120 fits\n",
      "[nan nan nan nan]\n",
      "[nan nan nan nan]\n"
     ]
    },
    {
     "name": "stderr",
     "output_type": "stream",
     "text": [
      "/Users/vsharm/Desktop/Practice/mri-test/lib/python3.8/site-packages/sklearn/model_selection/_search.py:918: UserWarning: One or more of the test scores are non-finite: [nan nan nan nan]\n",
      "  warnings.warn(\n"
     ]
    }
   ],
   "source": [
    "from sklearn.model_selection import GridSearchCV, StratifiedShuffleSplit\n",
    "from sklearn.preprocessing import LabelEncoder\n",
    "\n",
    "groups = y\n",
    "classes = LabelEncoder().fit_transform(groups)\n",
    "\n",
    "cv = StratifiedShuffleSplit(n_splits=30, random_state=0, test_size=10)\n",
    "gs = GridSearchCV(pipe, param_grid, scoring='accuracy', cv=cv, verbose=1,\n",
    "                  refit=False, n_jobs=8)\n",
    "gs.fit(X, y)\n",
    "mean_scores = gs.cv_results_['mean_test_score']\n",
    "scores_std = gs.cv_results_['std_test_score']\n",
    "print(mean_scores)\n",
    "print(scores_std)"
   ]
  },
  {
   "cell_type": "code",
   "execution_count": null,
   "metadata": {},
   "outputs": [],
   "source": []
  }
 ],
 "metadata": {
  "kernelspec": {
   "display_name": "Python 3",
   "language": "python",
   "name": "python3"
  },
  "language_info": {
   "codemirror_mode": {
    "name": "ipython",
    "version": 3
   },
   "file_extension": ".py",
   "mimetype": "text/x-python",
   "name": "python",
   "nbconvert_exporter": "python",
   "pygments_lexer": "ipython3",
   "version": "3.8.8"
  }
 },
 "nbformat": 4,
 "nbformat_minor": 4
}
