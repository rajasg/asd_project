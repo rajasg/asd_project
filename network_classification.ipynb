{
 "cells": [
  {
   "cell_type": "code",
   "execution_count": 1,
   "metadata": {},
   "outputs": [],
   "source": [
    "import numpy as np\n",
    "import os"
   ]
  },
  {
   "cell_type": "code",
   "execution_count": 2,
   "metadata": {},
   "outputs": [
    {
     "name": "stdout",
     "output_type": "stream",
     "text": [
      "(120, 1156)\n"
     ]
    }
   ],
   "source": [
    "# Get labels\n",
    "y = np.loadtxt(\"data/labels.csv\", delimiter=',', dtype='int')    # 0 = typical, 1 = ASD\n",
    "\n",
    "# Get data\n",
    "num_files = len([name for name in os.listdir('./data/networks') if name.startswith('train_')])\n",
    "data_lst = []\n",
    "for i in range(num_files):\n",
    "    x = np.tril(np.loadtxt(f\"data/networks/train_{i}.csv\", delimiter=','), -1)[1:,:-1].flatten()\n",
    "    threshold = np.percentile(x, 98)\n",
    "    x[x < threshold] = 0\n",
    "    data_lst.append(x)\n",
    "\n",
    "X = np.array(data_lst)\n",
    "print(X.shape)"
   ]
  },
  {
   "cell_type": "code",
   "execution_count": 3,
   "metadata": {},
   "outputs": [],
   "source": [
    "from sklearn.svm import SVC\n",
    "from sklearn.model_selection import GridSearchCV"
   ]
  },
  {
   "cell_type": "code",
   "execution_count": 4,
   "metadata": {},
   "outputs": [],
   "source": [
    "svc = SVC()\n",
    "parameters = {'C':[.1, 1., 10.]}\n",
    "gs = GridSearchCV(svc, parameters, cv=5)"
   ]
  },
  {
   "cell_type": "code",
   "execution_count": 5,
   "metadata": {},
   "outputs": [
    {
     "name": "stdout",
     "output_type": "stream",
     "text": [
      "[0.51666667 0.575      0.54166667]\n",
      "[0.02041241 0.04859127 0.10206207]\n"
     ]
    }
   ],
   "source": [
    "gs.fit(X, y)\n",
    "\n",
    "mean_scores = gs.cv_results_['mean_test_score']\n",
    "scores_std = gs.cv_results_['std_test_score']\n",
    "\n",
    "print(mean_scores)\n",
    "print(scores_std)"
   ]
  }
 ],
 "metadata": {
  "kernelspec": {
   "display_name": "Python 3",
   "language": "python",
   "name": "python3"
  },
  "language_info": {
   "codemirror_mode": {
    "name": "ipython",
    "version": 3
   },
   "file_extension": ".py",
   "mimetype": "text/x-python",
   "name": "python",
   "nbconvert_exporter": "python",
   "pygments_lexer": "ipython3",
   "version": "3.8.8"
  }
 },
 "nbformat": 4,
 "nbformat_minor": 4
}
